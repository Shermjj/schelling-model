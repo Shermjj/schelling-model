{
 "cells": [
  {
   "cell_type": "markdown",
   "metadata": {
    "collapsed": true
   },
   "source": [
    "Schelling's Model of Racial Segregation\n",
    "\n",
    "Schelling's Model was one of the seminal works of agent based modelling in the social sciences, and we will attempt to recreate this model below. We will first describe a simplified model, but a detailed one is available at the end. Our model utilizes the Mesa python library and matplotlib. \n",
    "\n",
    "In the model, the agents are differentiated based on race, of which there are two kinds. The agents will attempt to optimize their satisfaction ratio,\n",
    "which is given by the ratio of neighbours with the same race divided by the total number of neighbours.\n",
    "Hence, the agents will congregate towards neighbourhoods with people of the same race.\n",
    "\n",
    "First, let's import some dependencies."
   ]
  },
  {
   "cell_type": "code",
   "execution_count": 1,
   "metadata": {},
   "outputs": [],
   "source": [
    "from model import SchelModel\n",
    "import matplotlib.pyplot as plt"
   ]
  },
  {
   "cell_type": "markdown",
   "metadata": {},
   "source": [
    "We imported our model, along with matplotlib to graph our data.\n",
    "Next, we construct the model based on our parameters. We will create a map of 50 by 50, so 2500 square units. We will place 2000 agents in the map\n",
    ", with a population density of 0.8 person per square units. We will randomly allocate a race to the agents. And finally, we will assign a satisfaction ratio of 0.5 to the agents.\n",
    "So, agents will only be satisfied if more than half of their neighbours are of the same race. Or put in another form, they will only tolerate their immediate neighbourhood having up to\n",
    "half of the opposite race.\n",
    "We will also create a matplotlib scatter plot."
   ]
  },
  {
   "cell_type": "code",
   "execution_count": 2,
   "metadata": {},
   "outputs": [],
   "source": [
    "Model = SchelModel(70,10,10,0.5)\n",
    "fig,(ax1,ax2) = plt.subplots(1,2)"
   ]
  },
  {
   "cell_type": "markdown",
   "metadata": {},
   "source": [
    "We proceed to run the model for 1000 steps."
   ]
  },
  {
   "cell_type": "code",
   "execution_count": 3,
   "metadata": {},
   "outputs": [],
   "source": [
    "for i in range(100):\n",
    "    Model.step()"
   ]
  },
  {
   "cell_type": "markdown",
   "metadata": {},
   "source": [
    "And now, we graph two scatter plots, one corresponding to the initial state of the model, and one corresponding to the final state of the model."
   ]
  },
  {
   "cell_type": "code",
   "execution_count": 4,
   "metadata": {},
   "outputs": [],
   "source": [
    "dc = Model.datacollector.get_agent_vars_dataframe()\n",
    "\n",
    "for agents in dc.xs(0,level=\"Step\").values.tolist():\n",
    "    if(agents[1] == 1):\n",
    "        ax1.scatter(agents[0][0],agents[0][1],color=\"r\")\n",
    "    else:\n",
    "        ax1.scatter(agents[0][0],agents[0][1],color=\"b\")\n",
    "        \n",
    "for agents in dc.xs(99,level=\"Step\").values.tolist():\n",
    "    if(agents[1] == 1):\n",
    "        ax2.scatter(agents[0][0],agents[0][1],color=\"r\")\n",
    "    else:\n",
    "        ax2.scatter(agents[0][0],agents[0][1],color=\"b\")\n"
   ]
  },
  {
   "cell_type": "markdown",
   "metadata": {},
   "source": [
    "Finally, we plot the two graphs."
   ]
  },
  {
   "cell_type": "code",
   "execution_count": 5,
   "metadata": {},
   "outputs": [
    {
     "data": {
      "image/png": "[encoded data removed]",
      "text/plain": [
       "<matplotlib.figure.Figure at 0x10796f4a8>"
      ]
     },
     "metadata": {},
     "output_type": "display_data"
    }
   ],
   "source": [
    "plt.show()"
   ]
  },
  {
   "cell_type": "markdown",
   "metadata": {},
   "source": [
    "As we can see, the final equilibrium state of the model is decidedly more segregated than the initial state, despite our relatively low satisfaction ratio."
   ]
  },
  {
   "cell_type": "markdown",
   "metadata": {},
   "source": [
    "For a more detailed version of the model, with alterable parameters and in between states, another example is provided below. Two graphs provided are the mean and lowest satisfaction ratio of the agents repectively."
   ]
  },
  {
   "cell_type": "code",
   "execution_count": 1,
   "metadata": {},
   "outputs": [
    {
     "name": "stdout",
     "output_type": "stream",
     "text": [
      "Interface starting at http://127.0.0.1:8521\n",
      "Socket opened!\n",
      "{\"type\":\"get_params\"}\n",
      "{\"type\":\"reset\"}\n"
     ]
    }
   ],
   "source": [
    "import server\n",
    "server.start()"
   ]
  },
  {
   "cell_type": "code",
   "execution_count": null,
   "metadata": {},
   "outputs": [],
   "source": []
  }
 ],
 "metadata": {
  "kernelspec": {
   "display_name": "Python 3",
   "language": "python",
   "name": "python3"
  },
  "language_info": {
   "codemirror_mode": {
    "name": "ipython",
    "version": 3
   },
   "file_extension": ".py",
   "mimetype": "text/x-python",
   "name": "python",
   "nbconvert_exporter": "python",
   "pygments_lexer": "ipython3",
   "version": "3.6.2"
  }
 },
 "nbformat": 4,
 "nbformat_minor": 1
}
