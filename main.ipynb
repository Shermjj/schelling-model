{
 "cells": [
  {
   "cell_type": "markdown",
   "metadata": {
    "collapsed": true
   },
   "source": [
    "Schelling's Model of Racial Segregation\n",
    "\n",
    "Schelling's Model was one of the seminal works of agent based modelling in the social sciences, and we will attempt to recreate this model below.\n",
    "In the model, the agents are differentiated based on race, of which there are two kinds. The agents will attempt to optimize their satisfaction ratio,\n",
    "which is given by the ratio of neighbours with the same race divided by the total number of neighbours.\n",
    "Hence, the agents will congregate towards neighbourhoods with people of the same race.\n",
    "\n",
    "First, let's import some dependencies."
   ]
  },
  {
   "cell_type": "code",
   "execution_count": null,
   "metadata": {},
   "outputs": [],
   "source": [
    "from model import SchelModel\n",
    "import matplotlib.pyplot as plt"
   ]
  },
  {
   "cell_type": "markdown",
   "metadata": {},
   "source": [
    "We imported our model, along with matplotlib to graph our data.\n",
    "Next, we construct the model based on our parameters. We will create a map of 50 by 50, so 2500 square units. We will place 2000 agents in the map\n",
    ", with a population density of 0.8 person per square units. We will randomly allocate a race to the agents. And finally, we will assign a satisfaction ratio of 0.5 to the agents.\n",
    "So, agents will only be satisfied if more than half of their neighbours are of the same race. Or put in another form, they will only tolerate their immediate neighbourhood having up to\n",
    "half of the opposite race.\n",
    "We will also create a matplotlib scatter plot."
   ]
  },
  {
   "cell_type": "code",
   "execution_count": null,
   "metadata": {},
   "outputs": [],
   "source": [
    "test = SchelModel(70,10,10,0.5)\n",
    "fig,(ax1,ax2) = plt.subplots(1,2)"
   ]
  },
  {
   "cell_type": "markdown",
   "metadata": {},
   "source": [
    "We proceed to run the model for 1000 steps."
   ]
  },
  {
   "cell_type": "code",
   "execution_count": null,
   "metadata": {},
   "outputs": [],
   "source": [
    "for i in range(100):\n",
    "    test.step()"
   ]
  },
  {
   "cell_type": "markdown",
   "metadata": {},
   "source": [
    "And now, we graph two scatter plots, one corresponding to the initial state of the model, and one corresponding to the final state of the model."
   ]
  },
  {
   "cell_type": "code",
   "execution_count": null,
   "metadata": {},
   "outputs": [],
   "source": [
    "dc = test.datacollector.get_agent_vars_dataframe()\n",
    "\n",
    "for agents in dc.xs(0,level=\"Step\").values.tolist():\n",
    "    if(agents[1] == 1):\n",
    "        ax1.scatter(agents[0][0],agents[0][1],color=\"r\")\n",
    "    else:\n",
    "        ax1.scatter(agents[0][0],agents[0][1],color=\"b\")\n",
    "for agents in dc.xs(99,level=\"Step\").values.tolist():\n",
    "    if(agents[1] == 1):\n",
    "        ax2.scatter(agents[0][0],agents[0][1],color=\"r\")\n",
    "    else:\n",
    "        ax2.scatter(agents[0][0],agents[0][1],color=\"b\")\n"
   ]
  },
  {
   "cell_type": "markdown",
   "metadata": {},
   "source": [
    "Finally, we plot the two graphs."
   ]
  },
  {
   "cell_type": "code",
   "execution_count": null,
   "metadata": {},
   "outputs": [],
   "source": [
    "plt.show()"
   ]
  },
  {
   "cell_type": "code",
   "execution_count": null,
   "metadata": {},
   "outputs": [],
   "source": [
    "from server import server\n",
    "server.launch()"
   ]
  }
 ],
 "metadata": {
  "kernelspec": {
   "display_name": "Python 2",
   "language": "python",
   "name": "python2"
  },
  "language_info": {
   "codemirror_mode": {
    "name": "ipython",
    "version": 2
   },
   "file_extension": ".py",
   "mimetype": "text/x-python",
   "name": "python",
   "nbconvert_exporter": "python",
   "pygments_lexer": "ipython2",
   "version": "2.7.6"
  }
 },
 "nbformat": 4,
 "nbformat_minor": 0
}
