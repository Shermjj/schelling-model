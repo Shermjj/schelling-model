{
 "cells": [
  {
   "cell_type": "heading",
   "metadata": {
    "collapsed": true
   },
   "level": 1,
   "source": [
    "Schelling's model of racial segregation attempts to illustrate how micro level \n",
    "behavioural choices by agents can lead to certain unintuitive macro level outcomes.\n",
    "We will detail the model below.\n",
    "First, we import dependencies and instantiate the model."
   ]
  },
  {
   "cell_type": "code",
   "execution_count": null,
   "metadata": {},
   "outputs": [],
   "source": [
    "from model import SchelModel\n",
    "import matplotlib.pyplot as plt\n",
    "\n",
    "fig,(ax1,ax2) = plt.subplots(1,2)\n",
    "test = SchelModel(7000,100,100,0.5)"
   ]
  },
  {
   "cell_type": "markdown",
   "metadata": {},
   "source": [
    "We will use a 100x100 grid, with 7000 agents, giving a density of 0.7. We will \n",
    "provide a satisfaction ratio of 0.5."
   ]
  },
  {
   "cell_type": "code",
   "execution_count": null,
   "metadata": {},
   "outputs": [],
   "source": []
  }
 ],
 "metadata": {
  "kernelspec": {
   "display_name": "Python 2",
   "language": "python",
   "name": "python2"
  },
  "language_info": {
   "codemirror_mode": {
    "name": "ipython",
    "version": 2
   },
   "file_extension": ".py",
   "mimetype": "text/x-python",
   "name": "python",
   "nbconvert_exporter": "python",
   "pygments_lexer": "ipython2",
   "version": "2.7.6"
  }
 },
 "nbformat": 4,
 "nbformat_minor": 0
}
